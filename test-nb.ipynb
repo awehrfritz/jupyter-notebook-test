{
  "cells": [
    {
      "cell_type": "markdown",
      "metadata": {},
      "source": [
        "# Jupyter notebook test\n",
        "\n",
        "Dr. Armin Wehrfritz  \n",
        "21 Nov 2022\n",
        "\n",
        "# 1. Test"
      ],
      "id": "6d6d3acc-a3f5-439b-bae5-c2c28ea4aba2"
    },
    {
      "cell_type": "code",
      "execution_count": 1,
      "metadata": {},
      "outputs": [
        {
          "output_type": "stream",
          "name": "stdout",
          "text": [
            "13"
          ]
        }
      ],
      "source": [
        "a = 2\n",
        "b = 3\n",
        "c = a**2 + b**2\n",
        "print(c)"
      ],
      "id": "396b5b07-b700-4b90-a4da-f9aa6b177c42"
    }
  ],
  "nbformat": 4,
  "nbformat_minor": 5,
  "metadata": {
    "kernelspec": {
      "name": "python3",
      "display_name": "Python 3 (ipykernel)",
      "language": "python"
    }
  }
}